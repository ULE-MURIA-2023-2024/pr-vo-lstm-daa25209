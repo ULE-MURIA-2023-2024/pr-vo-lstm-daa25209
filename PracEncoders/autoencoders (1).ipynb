{
  "cells": [
    {
      "cell_type": "code",
      "source": [
        "import torch\n",
        "from torchvision import datasets\n",
        "from torchvision import transforms\n",
        "import matplotlib.pyplot as plt\n",
        "from tqdm import tqdm\n",
        "\n",
        "# Getting device to accelerate training\n",
        "device = torch.device(\"cuda:0\" if torch.cuda.is_available() else \"cpu\")\n",
        "\n",
        "# Transforms images to a PyTorch Tensor\n",
        "tensor_transform = transforms.ToTensor()\n",
        "\n",
        "# Download the MNIST Dataset\n",
        "train_dataset = datasets.MNIST(\n",
        "    root=\"./data\",\n",
        "    train=True,\n",
        "    download=True,\n",
        "    transform=tensor_transform\n",
        ")\n",
        "\n",
        "# DataLoader is used to load the dataset for training\n",
        "train_loader = torch.utils.data.DataLoader(\n",
        "    dataset=train_dataset,\n",
        "    batch_size=32,\n",
        "    shuffle=True\n",
        ")\n",
        "\n",
        "# Check the dataset length\n",
        "len(train_dataset)\n",
        "\n",
        "class Autoencoder(torch.nn.Module):\n",
        "    def __init__(self):\n",
        "        super().__init__()\n",
        "\n",
        "        # Build an encoder with Linear layers followed by Relu\n",
        "        self.encoder = torch.nn.Sequential(\n",
        "            torch.nn.Linear(28 * 28, 128),\n",
        "            torch.nn.ReLU(),\n",
        "            torch.nn.Linear(128, 64),\n",
        "            torch.nn.ReLU(),\n",
        "            torch.nn.Linear(64, 36),\n",
        "            torch.nn.ReLU(),\n",
        "            torch.nn.Linear(36, 18),\n",
        "            torch.nn.ReLU(),\n",
        "            torch.nn.Linear(18, 9)\n",
        "        )\n",
        "\n",
        "        # Build a decoder with Linear layers followed by Relu\n",
        "        self.decoder = torch.nn.Sequential(\n",
        "            torch.nn.Linear(9, 18),\n",
        "            torch.nn.ReLU(),\n",
        "            torch.nn.Linear(18, 36),\n",
        "            torch.nn.ReLU(),\n",
        "            torch.nn.Linear(36, 64),\n",
        "            torch.nn.ReLU(),\n",
        "            torch.nn.Linear(64, 128),\n",
        "            torch.nn.ReLU(),\n",
        "            torch.nn.Linear(128, 28 * 28),\n",
        "            torch.nn.Sigmoid()\n",
        "        )\n",
        "\n",
        "    def forward(self, x):\n",
        "        encoded = self.encoder(x)\n",
        "        decoded = self.decoder(encoded)\n",
        "        return decoded\n",
        "\n",
        "# Model Initialization\n",
        "model = Autoencoder()\n",
        "model.to(device)\n",
        "\n",
        "# Validation using MSE Loss function\n",
        "loss_function = torch.nn.MSELoss()\n",
        "\n",
        "# Using an Adam Optimizer with lr = 0.001\n",
        "optimizer = torch.optim.Adam(\n",
        "    model.parameters(),\n",
        "    lr=1e-3,\n",
        "    weight_decay=1e-8\n",
        ")\n",
        "\n",
        "epochs = 5\n",
        "outputs = []\n",
        "losses = []\n",
        "running_loss = 0.0\n",
        "\n",
        "for epoch in range(epochs):\n",
        "    for (image, _) in tqdm(train_loader, f\"Epoch {epoch + 1}:\"):\n",
        "\n",
        "        # Reshaping the image to (-1, 784)\n",
        "        image = image.reshape(-1, 28 * 28)\n",
        "        image = image.to(device)\n",
        "\n",
        "        # Output of Autoencoder\n",
        "        reconstructed = model(image)\n",
        "\n",
        "        # Calculating the loss function\n",
        "        loss = loss_function(reconstructed, image)\n",
        "\n",
        "        # The gradients are set to zero,\n",
        "        # the gradient is computed and stored.\n",
        "        # .step() performs parameter update\n",
        "        optimizer.zero_grad()\n",
        "        loss.backward()\n",
        "        optimizer.step()\n",
        "\n",
        "        # Storing the losses in a list for plotting\n",
        "        running_loss += loss.item()\n",
        "        losses.append(loss.cpu().detach().numpy())\n",
        "\n",
        "    print(\n",
        "        f\"Epoch [{epoch+1}/{epochs}], Loss: {running_loss / len(train_loader)}\"\n",
        "    )\n",
        "    running_loss = 0.0\n",
        "\n",
        "# Defining the Plot Style\n",
        "plt.style.use('fivethirtyeight')\n",
        "plt.xlabel('Iterations')\n",
        "plt.ylabel('Loss')\n",
        "\n",
        "# Plotting\n",
        "plt.plot(losses)\n",
        "plt.show()\n",
        "\n",
        "# Download the MNIST Test Dataset\n",
        "test_dataset = datasets.MNIST(\n",
        "    root=\"./data\",\n",
        "    train=False,\n",
        "    download=True,\n",
        "    transform=tensor_transform\n",
        ")\n",
        "\n",
        "# DataLoader is used to load the dataset for testing\n",
        "test_loader = torch.utils.data.DataLoader(\n",
        "    dataset=test_dataset,\n",
        "    batch_size=1,\n",
        "    shuffle=False\n",
        ")\n",
        "loader_iter = iter(test_loader)\n",
        "\n"
      ],
      "metadata": {
        "colab": {
          "base_uri": "https://localhost:8080/",
          "height": 660
        },
        "id": "fzTX-oW9NNZ7",
        "outputId": "62be8686-edf9-4fba-8d06-95182f26b32a"
      },
      "execution_count": 2,
      "outputs": [
        {
          "output_type": "stream",
          "name": "stderr",
          "text": [
            "Epoch 1:: 100%|██████████| 1875/1875 [00:19<00:00, 94.02it/s]\n"
          ]
        },
        {
          "output_type": "stream",
          "name": "stdout",
          "text": [
            "Epoch [1/5], Loss: 0.055198069848616915\n"
          ]
        },
        {
          "output_type": "stream",
          "name": "stderr",
          "text": [
            "Epoch 2:: 100%|██████████| 1875/1875 [00:21<00:00, 87.35it/s]\n"
          ]
        },
        {
          "output_type": "stream",
          "name": "stdout",
          "text": [
            "Epoch [2/5], Loss: 0.04073548290133476\n"
          ]
        },
        {
          "output_type": "stream",
          "name": "stderr",
          "text": [
            "Epoch 3:: 100%|██████████| 1875/1875 [00:20<00:00, 90.38it/s]\n"
          ]
        },
        {
          "output_type": "stream",
          "name": "stdout",
          "text": [
            "Epoch [3/5], Loss: 0.033068934878706935\n"
          ]
        },
        {
          "output_type": "stream",
          "name": "stderr",
          "text": [
            "Epoch 4:: 100%|██████████| 1875/1875 [00:19<00:00, 96.85it/s] \n"
          ]
        },
        {
          "output_type": "stream",
          "name": "stdout",
          "text": [
            "Epoch [4/5], Loss: 0.029834651218851406\n"
          ]
        },
        {
          "output_type": "stream",
          "name": "stderr",
          "text": [
            "Epoch 5:: 100%|██████████| 1875/1875 [00:20<00:00, 92.28it/s]\n"
          ]
        },
        {
          "output_type": "stream",
          "name": "stdout",
          "text": [
            "Epoch [5/5], Loss: 0.027578112212816874\n"
          ]
        },
        {
          "output_type": "display_data",
          "data": {
            "text/plain": [
              "<Figure size 640x480 with 1 Axes>"
            ],
            "image/png": "[encoded data removed]"
          },
          "metadata": {}
        }
      ]
    },
    {
      "cell_type": "code",
      "source": [
        "\n",
        "# Testing model\n",
        "image, _ = next(loader_iter)\n",
        "image = image.reshape(-1, 28*28)\n",
        "image = image.to(device)\n",
        "\n",
        "# Output of Autoencoder\n",
        "bottleneck = model.encoder(image)\n",
        "reconstructed = model.decoder(bottleneck)\n",
        "\n",
        "image = image.reshape(-1, 28, 28)\n",
        "reconstructed = reconstructed.reshape(-1, 28, 28)\n",
        "\n",
        "print(bottleneck.shape)\n",
        "fig, axs = plt.subplots(1, 2)\n",
        "axs[0].imshow(image[0].cpu().detach().numpy(), cmap='gray')\n",
        "axs[0].axis(\"off\")\n",
        "axs[1].imshow(reconstructed[0].cpu().detach().numpy(), cmap='gray')\n",
        "axs[1].axis(\"off\")\n",
        "plt.show()"
      ],
      "metadata": {
        "colab": {
          "base_uri": "https://localhost:8080/",
          "height": 308
        },
        "id": "IrWzwIiBOVl4",
        "outputId": "0ce577de-6ff1-457e-9265-2fbe5fcee8bb"
      },
      "execution_count": 5,
      "outputs": [
        {
          "output_type": "stream",
          "name": "stdout",
          "text": [
            "torch.Size([1, 9])\n"
          ]
        },
        {
          "output_type": "display_data",
          "data": {
            "text/plain": [
              "<Figure size 640x480 with 2 Axes>"
            ],
            "image/png": "[encoded data removed]"
          },
          "metadata": {}
        }
      ]
    }
  ],
  "metadata": {
    "kernelspec": {
      "display_name": "Python 3",
      "language": "python",
      "name": "python3"
    },
    "language_info": {
      "codemirror_mode": {
        "name": "ipython",
        "version": 3
      },
      "file_extension": ".py",
      "mimetype": "text/x-python",
      "name": "python",
      "nbconvert_exporter": "python",
      "pygments_lexer": "ipython3",
      "version": "3.10.12"
    },
    "colab": {
      "provenance": []
    }
  },
  "nbformat": 4,
  "nbformat_minor": 0
}